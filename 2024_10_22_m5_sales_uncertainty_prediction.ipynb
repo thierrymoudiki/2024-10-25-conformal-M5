{
  "cells": [
    {
      "cell_type": "markdown",
      "metadata": {
        "id": "KrirbkrEXUfA"
      },
      "source": [
        "# Uncertainty Quantification on M5 competition sales data\n",
        "\n"
      ]
    },
    {
      "cell_type": "markdown",
      "metadata": {},
      "source": [
        "## Loading packages "
      ]
    },
    {
      "cell_type": "code",
      "execution_count": null,
      "metadata": {
        "colab": {
          "base_uri": "https://localhost:8080/"
        },
        "execution": {
          "iopub.execute_input": "2024-10-22T07:56:01.731500Z",
          "iopub.status.busy": "2024-10-22T07:56:01.731180Z",
          "iopub.status.idle": "2024-10-22T07:56:08.441284Z",
          "shell.execute_reply": "2024-10-22T07:56:08.440354Z",
          "shell.execute_reply.started": "2024-10-22T07:56:01.731470Z"
        },
        "id": "SaeqQHKSXUfC",
        "outputId": "09a9a1e2-b8d2-45f1-b5c5-313a5169a912",
        "trusted": true
      },
      "outputs": [],
      "source": [
        "!pip install nnetsauce xgboost lightgbm numpy pandas scikit-learn"
      ]
    },
    {
      "cell_type": "code",
      "execution_count": 2,
      "metadata": {
        "execution": {
          "iopub.execute_input": "2024-10-22T07:56:24.719436Z",
          "iopub.status.busy": "2024-10-22T07:56:24.719186Z",
          "iopub.status.idle": "2024-10-22T07:56:24.751733Z",
          "shell.execute_reply": "2024-10-22T07:56:24.750717Z",
          "shell.execute_reply.started": "2024-10-22T07:56:24.719404Z"
        },
        "id": "VNhPZ8MAXUfF",
        "trusted": true
      },
      "outputs": [],
      "source": [
        "import nnetsauce as ns\n",
        "import lightgbm as lgb\n",
        "import xgboost as xgb\n",
        "import numpy as np\n",
        "import pandas as pd\n",
        "from sklearn.ensemble import GradientBoostingRegressor"
      ]
    },
    {
      "cell_type": "markdown",
      "metadata": {
        "id": "YhyLcZwJXUfG"
      },
      "source": [
        "## Useful functions"
      ]
    },
    {
      "cell_type": "code",
      "execution_count": 3,
      "metadata": {
        "execution": {
          "iopub.status.busy": "2024-10-22T07:56:24.752877Z",
          "iopub.status.idle": "2024-10-22T07:56:24.753225Z",
          "shell.execute_reply": "2024-10-22T07:56:24.753049Z"
        },
        "id": "ELtemBQ9XUfG",
        "trusted": true
      },
      "outputs": [],
      "source": [
        "def calculate_coverage(lower_pred, upper_pred, y_true):\n",
        "    \"\"\"Calculate coverage of the prediction intervals.\"\"\"\n",
        "    within_bounds = np.logical_and(lower_pred <= y_true, y_true <= upper_pred)\n",
        "    return np.mean(within_bounds)\n",
        "\n",
        "def calculate_winkler_score(lower_pred, upper_pred, y_true, alpha=0.05):\n",
        "    \"\"\"Calculate Winkler score for predictions.\"\"\"\n",
        "\n",
        "    penalty = 2*np.maximum(lower_pred - y_true, 0)/alpha\n",
        "\n",
        "    penalty += 2*np.maximum(y_true - upper_pred, 0)/alpha\n",
        "\n",
        "    scores = (upper_pred - lower_pred) + penalty\n",
        "\n",
        "    return np.mean(scores)\n"
      ]
    },
    {
      "cell_type": "markdown",
      "metadata": {
        "id": "aZbJYDHOXUfG"
      },
      "source": [
        "## Loading data <a class=\"anchor\" id=\"data\"></a>"
      ]
    },
    {
      "cell_type": "markdown",
      "metadata": {
        "id": "mlNlmSudXUfH"
      },
      "source": [
        "### Sales Training Data"
      ]
    },
    {
      "cell_type": "code",
      "execution_count": 4,
      "metadata": {
        "colab": {
          "base_uri": "https://localhost:8080/",
          "height": 256
        },
        "execution": {
          "iopub.execute_input": "2024-10-22T07:57:52.318964Z",
          "iopub.status.busy": "2024-10-22T07:57:52.318654Z",
          "iopub.status.idle": "2024-10-22T07:57:58.412318Z",
          "shell.execute_reply": "2024-10-22T07:57:58.411500Z",
          "shell.execute_reply.started": "2024-10-22T07:57:52.318930Z"
        },
        "id": "D_AAZeTNXUfH",
        "outputId": "9ea7633a-c54c-4697-f69a-cf0ba5801a77",
        "trusted": true
      },
      "outputs": [
        {
          "data": {
            "text/html": [
              "<div>\n",
              "<style scoped>\n",
              "    .dataframe tbody tr th:only-of-type {\n",
              "        vertical-align: middle;\n",
              "    }\n",
              "\n",
              "    .dataframe tbody tr th {\n",
              "        vertical-align: top;\n",
              "    }\n",
              "\n",
              "    .dataframe thead th {\n",
              "        text-align: right;\n",
              "    }\n",
              "</style>\n",
              "<table border=\"1\" class=\"dataframe\">\n",
              "  <thead>\n",
              "    <tr style=\"text-align: right;\">\n",
              "      <th></th>\n",
              "      <th>item_id</th>\n",
              "      <th>d_1</th>\n",
              "      <th>d_2</th>\n",
              "      <th>d_3</th>\n",
              "      <th>d_4</th>\n",
              "      <th>d_5</th>\n",
              "      <th>d_6</th>\n",
              "      <th>d_7</th>\n",
              "      <th>d_8</th>\n",
              "      <th>d_9</th>\n",
              "      <th>...</th>\n",
              "      <th>d_1904</th>\n",
              "      <th>d_1905</th>\n",
              "      <th>d_1906</th>\n",
              "      <th>d_1907</th>\n",
              "      <th>d_1908</th>\n",
              "      <th>d_1909</th>\n",
              "      <th>d_1910</th>\n",
              "      <th>d_1911</th>\n",
              "      <th>d_1912</th>\n",
              "      <th>d_1913</th>\n",
              "    </tr>\n",
              "  </thead>\n",
              "  <tbody>\n",
              "    <tr>\n",
              "      <th>0</th>\n",
              "      <td>FOODS_1_001</td>\n",
              "      <td>6</td>\n",
              "      <td>6</td>\n",
              "      <td>4</td>\n",
              "      <td>6</td>\n",
              "      <td>7</td>\n",
              "      <td>18</td>\n",
              "      <td>10</td>\n",
              "      <td>4</td>\n",
              "      <td>11</td>\n",
              "      <td>...</td>\n",
              "      <td>4</td>\n",
              "      <td>4</td>\n",
              "      <td>30</td>\n",
              "      <td>7</td>\n",
              "      <td>5</td>\n",
              "      <td>3</td>\n",
              "      <td>6</td>\n",
              "      <td>2</td>\n",
              "      <td>16</td>\n",
              "      <td>6</td>\n",
              "    </tr>\n",
              "    <tr>\n",
              "      <th>1</th>\n",
              "      <td>FOODS_1_002</td>\n",
              "      <td>4</td>\n",
              "      <td>5</td>\n",
              "      <td>7</td>\n",
              "      <td>4</td>\n",
              "      <td>3</td>\n",
              "      <td>4</td>\n",
              "      <td>1</td>\n",
              "      <td>7</td>\n",
              "      <td>2</td>\n",
              "      <td>...</td>\n",
              "      <td>5</td>\n",
              "      <td>9</td>\n",
              "      <td>4</td>\n",
              "      <td>1</td>\n",
              "      <td>3</td>\n",
              "      <td>5</td>\n",
              "      <td>5</td>\n",
              "      <td>3</td>\n",
              "      <td>3</td>\n",
              "      <td>1</td>\n",
              "    </tr>\n",
              "    <tr>\n",
              "      <th>2</th>\n",
              "      <td>FOODS_1_003</td>\n",
              "      <td>14</td>\n",
              "      <td>8</td>\n",
              "      <td>3</td>\n",
              "      <td>6</td>\n",
              "      <td>3</td>\n",
              "      <td>8</td>\n",
              "      <td>13</td>\n",
              "      <td>10</td>\n",
              "      <td>11</td>\n",
              "      <td>...</td>\n",
              "      <td>7</td>\n",
              "      <td>3</td>\n",
              "      <td>5</td>\n",
              "      <td>6</td>\n",
              "      <td>3</td>\n",
              "      <td>4</td>\n",
              "      <td>4</td>\n",
              "      <td>3</td>\n",
              "      <td>11</td>\n",
              "      <td>5</td>\n",
              "    </tr>\n",
              "    <tr>\n",
              "      <th>3</th>\n",
              "      <td>FOODS_1_004</td>\n",
              "      <td>0</td>\n",
              "      <td>0</td>\n",
              "      <td>0</td>\n",
              "      <td>0</td>\n",
              "      <td>0</td>\n",
              "      <td>0</td>\n",
              "      <td>0</td>\n",
              "      <td>0</td>\n",
              "      <td>0</td>\n",
              "      <td>...</td>\n",
              "      <td>0</td>\n",
              "      <td>0</td>\n",
              "      <td>0</td>\n",
              "      <td>0</td>\n",
              "      <td>0</td>\n",
              "      <td>0</td>\n",
              "      <td>0</td>\n",
              "      <td>0</td>\n",
              "      <td>0</td>\n",
              "      <td>0</td>\n",
              "    </tr>\n",
              "    <tr>\n",
              "      <th>4</th>\n",
              "      <td>FOODS_1_005</td>\n",
              "      <td>34</td>\n",
              "      <td>32</td>\n",
              "      <td>13</td>\n",
              "      <td>20</td>\n",
              "      <td>10</td>\n",
              "      <td>21</td>\n",
              "      <td>18</td>\n",
              "      <td>20</td>\n",
              "      <td>25</td>\n",
              "      <td>...</td>\n",
              "      <td>16</td>\n",
              "      <td>14</td>\n",
              "      <td>14</td>\n",
              "      <td>18</td>\n",
              "      <td>18</td>\n",
              "      <td>27</td>\n",
              "      <td>12</td>\n",
              "      <td>15</td>\n",
              "      <td>38</td>\n",
              "      <td>9</td>\n",
              "    </tr>\n",
              "  </tbody>\n",
              "</table>\n",
              "<p>5 rows × 1914 columns</p>\n",
              "</div>"
            ],
            "text/plain": [
              "       item_id  d_1  d_2  d_3  d_4  d_5  d_6  d_7  d_8  d_9  ...  d_1904  \\\n",
              "0  FOODS_1_001    6    6    4    6    7   18   10    4   11  ...       4   \n",
              "1  FOODS_1_002    4    5    7    4    3    4    1    7    2  ...       5   \n",
              "2  FOODS_1_003   14    8    3    6    3    8   13   10   11  ...       7   \n",
              "3  FOODS_1_004    0    0    0    0    0    0    0    0    0  ...       0   \n",
              "4  FOODS_1_005   34   32   13   20   10   21   18   20   25  ...      16   \n",
              "\n",
              "   d_1905  d_1906  d_1907  d_1908  d_1909  d_1910  d_1911  d_1912  d_1913  \n",
              "0       4      30       7       5       3       6       2      16       6  \n",
              "1       9       4       1       3       5       5       3       3       1  \n",
              "2       3       5       6       3       4       4       3      11       5  \n",
              "3       0       0       0       0       0       0       0       0       0  \n",
              "4      14      14      18      18      27      12      15      38       9  \n",
              "\n",
              "[5 rows x 1914 columns]"
            ]
          },
          "execution_count": 4,
          "metadata": {},
          "output_type": "execute_result"
        }
      ],
      "source": [
        "df = pd.read_csv(\"m5-forecasting-uncertainty-sales-per-item.csv\")\n",
        "df.head()"
      ]
    },
    {
      "cell_type": "code",
      "execution_count": 6,
      "metadata": {
        "colab": {
          "base_uri": "https://localhost:8080/"
        },
        "execution": {
          "iopub.execute_input": "2024-10-22T07:58:43.031321Z",
          "iopub.status.busy": "2024-10-22T07:58:43.031036Z",
          "iopub.status.idle": "2024-10-22T07:58:47.806205Z",
          "shell.execute_reply": "2024-10-22T07:58:47.805451Z",
          "shell.execute_reply.started": "2024-10-22T07:58:43.031294Z"
        },
        "id": "2Sfb7guuXUfI",
        "outputId": "5dd0c86f-212c-4794-ab11-350d01b37fbc",
        "trusted": true
      },
      "outputs": [
        {
          "name": "stdout",
          "output_type": "stream",
          "text": [
            "          d_1     d_2     d_3     d_4     d_5     d_6     d_7     d_8     d_9  \\\n",
            "count 3049.00 3049.00 3049.00 3049.00 3049.00 3049.00 3049.00 3049.00 3049.00   \n",
            "mean    10.70   10.41    7.80    8.33    6.28    9.58    9.19   12.44   10.74   \n",
            "std     40.83   42.11   27.32   33.27   23.33   35.77   37.81   51.89   44.53   \n",
            "min      0.00    0.00    0.00    0.00    0.00    0.00    0.00    0.00    0.00   \n",
            "25%      0.00    0.00    0.00    0.00    0.00    0.00    0.00    0.00    0.00   \n",
            "50%      0.00    0.00    0.00    0.00    0.00    0.00    0.00    0.00    0.00   \n",
            "75%      9.00    9.00    6.00    7.00    5.00    8.00    7.00   10.00    9.00   \n",
            "max   1345.00 1534.00  757.00 1196.00  749.00 1064.00 1187.00 1745.00 1367.00   \n",
            "\n",
            "         d_10  ...  d_1904  d_1905  d_1906  d_1907  d_1908  d_1909  d_1910  \\\n",
            "count 3049.00  ... 3049.00 3049.00 3049.00 3049.00 3049.00 3049.00 3049.00   \n",
            "mean     8.39  ...   13.71   15.86   16.94   12.48   12.32   11.59   11.49   \n",
            "std     28.00  ...   27.06   31.44   32.45   23.56   22.79   20.87   21.28   \n",
            "min      0.00  ...    0.00    0.00    0.00    0.00    0.00    0.00    0.00   \n",
            "25%      0.00  ...    3.00    3.00    4.00    2.00    2.00    2.00    2.00   \n",
            "50%      0.00  ...    7.00    8.00    8.00    6.00    6.00    6.00    6.00   \n",
            "75%      7.00  ...   14.00   17.00   17.00   14.00   13.00   12.00   12.00   \n",
            "max    783.00  ...  672.00  832.00  789.00  486.00  434.00  425.00  422.00   \n",
            "\n",
            "       d_1911  d_1912  d_1913  \n",
            "count 3049.00 3049.00 3049.00  \n",
            "mean    13.29   16.06   16.33  \n",
            "std     25.15   31.22   28.47  \n",
            "min      0.00    0.00    0.00  \n",
            "25%      3.00    3.00    4.00  \n",
            "50%      7.00    8.00    8.00  \n",
            "75%     14.00   17.00   18.00  \n",
            "max    629.00  793.00  592.00  \n",
            "\n",
            "[8 rows x 1913 columns]\n"
          ]
        }
      ],
      "source": [
        "print(df.describe())"
      ]
    },
    {
      "cell_type": "code",
      "execution_count": 7,
      "metadata": {
        "colab": {
          "base_uri": "https://localhost:8080/"
        },
        "execution": {
          "iopub.execute_input": "2024-10-22T07:58:59.750770Z",
          "iopub.status.busy": "2024-10-22T07:58:59.750467Z",
          "iopub.status.idle": "2024-10-22T07:58:59.899273Z",
          "shell.execute_reply": "2024-10-22T07:58:59.898574Z",
          "shell.execute_reply.started": "2024-10-22T07:58:59.750741Z"
        },
        "id": "CNTehQDuXUfJ",
        "outputId": "295551b0-2add-4557-c3af-4b891822fa94",
        "trusted": true
      },
      "outputs": [
        {
          "name": "stdout",
          "output_type": "stream",
          "text": [
            "<class 'pandas.core.frame.DataFrame'>\n",
            "RangeIndex: 3049 entries, 0 to 3048\n",
            "Columns: 1914 entries, item_id to d_1913\n",
            "dtypes: int64(1913), object(1)\n",
            "memory usage: 44.5+ MB\n",
            "None\n"
          ]
        }
      ],
      "source": [
        "print(df.info())"
      ]
    },
    {
      "cell_type": "markdown",
      "metadata": {
        "id": "NhqN0aI7XUfJ"
      },
      "source": [
        "# Forecasting"
      ]
    },
    {
      "cell_type": "code",
      "execution_count": 8,
      "metadata": {
        "id": "TKOu1qP0j36n"
      },
      "outputs": [],
      "source": [
        "from time import time"
      ]
    },
    {
      "cell_type": "markdown",
      "metadata": {
        "id": "ohQQ5ZDTl1lv"
      },
      "source": [
        "## Functions"
      ]
    },
    {
      "cell_type": "code",
      "execution_count": 12,
      "metadata": {
        "id": "jMmb-d5OeozX"
      },
      "outputs": [],
      "source": [
        "def forecast(df, idx=0, model=\"xgb\", pi_method= \"quantile\",\n",
        "             pct_train=0.9, **kwargs):\n",
        "\n",
        "  assert pct_train > 0.6, \"must have pct_train > 0.6\"\n",
        "\n",
        "  x = df.iloc[idx, 1:].diff().dropna().values.astype(np.float64)\n",
        "  n_points = len(x)\n",
        "  x_train = x[:int(n_points*pct_train)].ravel()\n",
        "  x_test = x[int(n_points*pct_train):].ravel()\n",
        "  lags = 1 # number of lags to consider\n",
        "  h = len(x_test)\n",
        "\n",
        "  if pi_method == \"conformal\":\n",
        "\n",
        "    if model == \"xgb\":\n",
        "      regr = ns.MTS(obj=xgb.XGBRegressor(\n",
        "                  tree_method=\"hist\", **kwargs),\n",
        "                  n_hidden_features=0,\n",
        "                  type_pi=\"scp2-kde\",\n",
        "                  replications=250,\n",
        "                  lags=lags,\n",
        "                  show_progress=False,\n",
        "                  verbose=0)\n",
        "    elif model == \"gb\":\n",
        "      regr = ns.MTS(obj=GradientBoostingRegressor(**kwargs),\n",
        "                      n_hidden_features=0,\n",
        "                      type_pi=\"scp2-kde\",\n",
        "                      replications=250,\n",
        "                      lags=lags,\n",
        "                      show_progress=False,\n",
        "                      verbose=0)\n",
        "    elif model == \"lgb\":\n",
        "      regr = ns.MTS(obj=lgb.LGBMRegressor(verbosity=-1, **kwargs),\n",
        "                      n_hidden_features=0,\n",
        "                      type_pi=\"scp2-kde\",\n",
        "                      replications=250,\n",
        "                      lags=lags,\n",
        "                      show_progress=False,\n",
        "                      verbose=0)\n",
        "    else:\n",
        "      raise NotImplementedError\n",
        "\n",
        "    start = time()\n",
        "    res = regr.fit(x_train).predict(h = h)\n",
        "    time_taken = time() - start\n",
        "\n",
        "    lower_pred = res.lower.values.ravel()\n",
        "    upper_pred = res.upper.values.ravel()\n",
        "    y_true = x_test\n",
        "\n",
        "  elif pi_method == \"quantile\":\n",
        "\n",
        "    if model == \"xgb\":\n",
        "      bounds =[]\n",
        "      for i, alpha in enumerate([0.025, 0.975]):\n",
        "        regr = ns.MTS(obj=xgb.XGBRegressor(objective=\"reg:quantileerror\",\n",
        "                          tree_method=\"hist\",\n",
        "                          quantile_alpha=alpha, **kwargs),\n",
        "                          n_hidden_features=0,\n",
        "                          lags=lags,\n",
        "                          show_progress=False,\n",
        "                          verbose=0)\n",
        "        start = time()\n",
        "        regr.fit(x_train)\n",
        "        time_taken = time() - start\n",
        "        bounds.append(regr.predict(h = h))\n",
        "    elif model == \"gb\":\n",
        "      bounds =[]\n",
        "      for i, alpha in enumerate([0.025, 0.975]):\n",
        "        regr = ns.MTS(obj=GradientBoostingRegressor(loss=\"quantile\",\n",
        "                                            alpha=alpha, **kwargs),\n",
        "                          n_hidden_features=0,\n",
        "                          lags=lags,\n",
        "                          show_progress=False,\n",
        "                          verbose=0)\n",
        "        start = time()\n",
        "        regr.fit(x_train)\n",
        "        bounds.append(regr.predict(h = h))\n",
        "        time_taken = time() - start\n",
        "    elif model == \"lgb\":\n",
        "      bounds =[]\n",
        "      for i, alpha in enumerate([0.025, 0.975]):\n",
        "        regr = ns.MTS(obj=lgb.LGBMRegressor(objective = 'quantile',\n",
        "                                alpha = alpha,\n",
        "                                verbosity=-1, **kwargs),\n",
        "                          n_hidden_features=0,\n",
        "                          lags=lags,\n",
        "                          show_progress=False,\n",
        "                          verbose=0)\n",
        "        start = time()\n",
        "        regr.fit(x_train)\n",
        "        bounds.append(regr.predict(h = h))\n",
        "        time_taken = time() - start\n",
        "    else:\n",
        "      raise NotImplementedError\n",
        "\n",
        "    lower_pred = bounds[0].values.ravel()\n",
        "    upper_pred = bounds[1].values.ravel()\n",
        "    y_true = x_test\n",
        "\n",
        "  return calculate_coverage(lower_pred, upper_pred, y_true), calculate_winkler_score(lower_pred, upper_pred, y_true), time_taken\n"
      ]
    },
    {
      "cell_type": "markdown",
      "metadata": {
        "id": "_i_2RLcaqGPq"
      },
      "source": [
        "## loop"
      ]
    },
    {
      "cell_type": "code",
      "execution_count": 14,
      "metadata": {
        "id": "j8uvCVn1u1Al"
      },
      "outputs": [],
      "source": [
        "res = []"
      ]
    },
    {
      "cell_type": "code",
      "execution_count": 15,
      "metadata": {
        "id": "MCfnurP0vbcD"
      },
      "outputs": [],
      "source": [
        "from tqdm import tqdm"
      ]
    },
    {
      "cell_type": "markdown",
      "metadata": {
        "id": "uNglxEL_3da2"
      },
      "source": [
        "Parallel"
      ]
    },
    {
      "cell_type": "code",
      "execution_count": 16,
      "metadata": {
        "colab": {
          "base_uri": "https://localhost:8080/"
        },
        "id": "7gYUvxbZ3cjS",
        "outputId": "5d9f2e14-edd1-4182-98f5-d6d40ff076db"
      },
      "outputs": [
        {
          "name": "stderr",
          "output_type": "stream",
          "text": [
            "100%|██████████| 3049/3049 [7:39:00<00:00,  9.03s/it]  \n"
          ]
        }
      ],
      "source": [
        "from joblib import Parallel, delayed\n",
        "from tqdm import tqdm\n",
        "\n",
        "# Define a function to handle the forecasting for each store_idx\n",
        "def process_forecast(store_idx):\n",
        "    result = []\n",
        "    for model in [\"xgb\", \"gb\", \"lgb\"]:\n",
        "        for pi_method in [\"quantile\", \"conformal\"]:\n",
        "            try:\n",
        "                ans = forecast(df, idx=store_idx, model=model, pi_method=pi_method)\n",
        "                result.append([model, pi_method, ans[0], ans[1], ans[2]])\n",
        "            except Exception as e:\n",
        "                continue\n",
        "    return result\n",
        "\n",
        "# Parallelize using joblib's Parallel and delayed\n",
        "# n_jobs=-1 uses all available cores; you can adjust this value as needed\n",
        "res = Parallel(n_jobs=-1)(delayed(process_forecast)(store_idx) for store_idx in tqdm(range(df.shape[0])))\n",
        "\n",
        "# Flatten the results list since each iteration returns a list\n",
        "res = [item for sublist in res for item in sublist]\n"
      ]
    },
    {
      "cell_type": "code",
      "execution_count": 17,
      "metadata": {
        "id": "Dm2n0LcAvOIA"
      },
      "outputs": [],
      "source": [
        "res_array = np.array(res)"
      ]
    },
    {
      "cell_type": "code",
      "execution_count": 18,
      "metadata": {
        "id": "tPVCJCkKvTah"
      },
      "outputs": [],
      "source": [
        "res_df = pd.DataFrame(res_array, columns=[\"model\", \"pi_method\",\n",
        "                                          \"coverage\", \"winkler\",\n",
        "                                          \"time\"], index=None)"
      ]
    },
    {
      "cell_type": "code",
      "execution_count": 19,
      "metadata": {
        "id": "1MFqkzDcwOFN"
      },
      "outputs": [
        {
          "data": {
            "text/html": [
              "<div>\n",
              "<style scoped>\n",
              "    .dataframe tbody tr th:only-of-type {\n",
              "        vertical-align: middle;\n",
              "    }\n",
              "\n",
              "    .dataframe tbody tr th {\n",
              "        vertical-align: top;\n",
              "    }\n",
              "\n",
              "    .dataframe thead th {\n",
              "        text-align: right;\n",
              "    }\n",
              "</style>\n",
              "<table border=\"1\" class=\"dataframe\">\n",
              "  <thead>\n",
              "    <tr style=\"text-align: right;\">\n",
              "      <th></th>\n",
              "      <th>model</th>\n",
              "      <th>pi_method</th>\n",
              "      <th>coverage</th>\n",
              "      <th>winkler</th>\n",
              "      <th>time</th>\n",
              "    </tr>\n",
              "  </thead>\n",
              "  <tbody>\n",
              "    <tr>\n",
              "      <th>0</th>\n",
              "      <td>xgb</td>\n",
              "      <td>quantile</td>\n",
              "      <td>0.7916666666666666</td>\n",
              "      <td>51.1210212608518</td>\n",
              "      <td>0.7799360752105713</td>\n",
              "    </tr>\n",
              "    <tr>\n",
              "      <th>1</th>\n",
              "      <td>xgb</td>\n",
              "      <td>conformal</td>\n",
              "      <td>0.9270833333333334</td>\n",
              "      <td>39.81039934883048</td>\n",
              "      <td>22.317060947418213</td>\n",
              "    </tr>\n",
              "    <tr>\n",
              "      <th>2</th>\n",
              "      <td>gb</td>\n",
              "      <td>quantile</td>\n",
              "      <td>0.7864583333333334</td>\n",
              "      <td>54.97230655378877</td>\n",
              "      <td>1.4404001235961914</td>\n",
              "    </tr>\n",
              "    <tr>\n",
              "      <th>3</th>\n",
              "      <td>gb</td>\n",
              "      <td>conformal</td>\n",
              "      <td>0.9166666666666666</td>\n",
              "      <td>40.109831397718715</td>\n",
              "      <td>30.550568342208862</td>\n",
              "    </tr>\n",
              "    <tr>\n",
              "      <th>4</th>\n",
              "      <td>lgb</td>\n",
              "      <td>quantile</td>\n",
              "      <td>0.7864583333333334</td>\n",
              "      <td>51.34335123406788</td>\n",
              "      <td>2.447108745574951</td>\n",
              "    </tr>\n",
              "    <tr>\n",
              "      <th>...</th>\n",
              "      <td>...</td>\n",
              "      <td>...</td>\n",
              "      <td>...</td>\n",
              "      <td>...</td>\n",
              "      <td>...</td>\n",
              "    </tr>\n",
              "    <tr>\n",
              "      <th>17808</th>\n",
              "      <td>xgb</td>\n",
              "      <td>conformal</td>\n",
              "      <td>0.921875</td>\n",
              "      <td>7.745386069078937</td>\n",
              "      <td>42.734118938446045</td>\n",
              "    </tr>\n",
              "    <tr>\n",
              "      <th>17809</th>\n",
              "      <td>gb</td>\n",
              "      <td>quantile</td>\n",
              "      <td>0.7552083333333334</td>\n",
              "      <td>16.191994712662865</td>\n",
              "      <td>2.329160213470459</td>\n",
              "    </tr>\n",
              "    <tr>\n",
              "      <th>17810</th>\n",
              "      <td>gb</td>\n",
              "      <td>conformal</td>\n",
              "      <td>0.921875</td>\n",
              "      <td>7.7454295687221775</td>\n",
              "      <td>18.94095277786255</td>\n",
              "    </tr>\n",
              "    <tr>\n",
              "      <th>17811</th>\n",
              "      <td>lgb</td>\n",
              "      <td>quantile</td>\n",
              "      <td>0.4947916666666667</td>\n",
              "      <td>35.219043821425906</td>\n",
              "      <td>0.7988557815551758</td>\n",
              "    </tr>\n",
              "    <tr>\n",
              "      <th>17812</th>\n",
              "      <td>lgb</td>\n",
              "      <td>conformal</td>\n",
              "      <td>0.9010416666666666</td>\n",
              "      <td>8.79169911751688</td>\n",
              "      <td>10.676007270812988</td>\n",
              "    </tr>\n",
              "  </tbody>\n",
              "</table>\n",
              "<p>17813 rows × 5 columns</p>\n",
              "</div>"
            ],
            "text/plain": [
              "      model  pi_method            coverage             winkler  \\\n",
              "0       xgb   quantile  0.7916666666666666    51.1210212608518   \n",
              "1       xgb  conformal  0.9270833333333334   39.81039934883048   \n",
              "2        gb   quantile  0.7864583333333334   54.97230655378877   \n",
              "3        gb  conformal  0.9166666666666666  40.109831397718715   \n",
              "4       lgb   quantile  0.7864583333333334   51.34335123406788   \n",
              "...     ...        ...                 ...                 ...   \n",
              "17808   xgb  conformal            0.921875   7.745386069078937   \n",
              "17809    gb   quantile  0.7552083333333334  16.191994712662865   \n",
              "17810    gb  conformal            0.921875  7.7454295687221775   \n",
              "17811   lgb   quantile  0.4947916666666667  35.219043821425906   \n",
              "17812   lgb  conformal  0.9010416666666666    8.79169911751688   \n",
              "\n",
              "                     time  \n",
              "0      0.7799360752105713  \n",
              "1      22.317060947418213  \n",
              "2      1.4404001235961914  \n",
              "3      30.550568342208862  \n",
              "4       2.447108745574951  \n",
              "...                   ...  \n",
              "17808  42.734118938446045  \n",
              "17809   2.329160213470459  \n",
              "17810   18.94095277786255  \n",
              "17811  0.7988557815551758  \n",
              "17812  10.676007270812988  \n",
              "\n",
              "[17813 rows x 5 columns]"
            ]
          },
          "execution_count": 19,
          "metadata": {},
          "output_type": "execute_result"
        }
      ],
      "source": [
        "res_df"
      ]
    },
    {
      "cell_type": "code",
      "execution_count": 27,
      "metadata": {
        "id": "B2eJ1zv1vXSB"
      },
      "outputs": [],
      "source": [
        "#res_df.to_csv(\"2024_10_22_m5_sales_uncertainty_prediction_results_local.#csv\")"
      ]
    },
    {
      "cell_type": "markdown",
      "metadata": {},
      "source": [
        "# Formatting"
      ]
    },
    {
      "cell_type": "markdown",
      "metadata": {},
      "source": [
        "## basic info"
      ]
    },
    {
      "cell_type": "code",
      "execution_count": 29,
      "metadata": {},
      "outputs": [],
      "source": [
        "results_local = pd.read_csv(\"2024_10_22_m5_sales_uncertainty_prediction_results_local.csv\")"
      ]
    },
    {
      "cell_type": "code",
      "execution_count": 30,
      "metadata": {},
      "outputs": [],
      "source": [
        "results_local['coverage'] = results_local['coverage'].astype(np.float64)\n",
        "results_local['winkler'] = results_local['winkler'].astype(np.float64)\n",
        "results_local['time'] = results_local['time'].astype(np.float64)"
      ]
    },
    {
      "cell_type": "code",
      "execution_count": 31,
      "metadata": {},
      "outputs": [
        {
          "data": {
            "text/html": [
              "<div>\n",
              "<style scoped>\n",
              "    .dataframe tbody tr th:only-of-type {\n",
              "        vertical-align: middle;\n",
              "    }\n",
              "\n",
              "    .dataframe tbody tr th {\n",
              "        vertical-align: top;\n",
              "    }\n",
              "\n",
              "    .dataframe thead th {\n",
              "        text-align: right;\n",
              "    }\n",
              "</style>\n",
              "<table border=\"1\" class=\"dataframe\">\n",
              "  <thead>\n",
              "    <tr style=\"text-align: right;\">\n",
              "      <th></th>\n",
              "      <th>Unnamed: 0</th>\n",
              "      <th>coverage</th>\n",
              "      <th>winkler</th>\n",
              "      <th>time</th>\n",
              "    </tr>\n",
              "  </thead>\n",
              "  <tbody>\n",
              "    <tr>\n",
              "      <th>count</th>\n",
              "      <td>17495.00</td>\n",
              "      <td>17495.00</td>\n",
              "      <td>17495.00</td>\n",
              "      <td>17495.00</td>\n",
              "    </tr>\n",
              "    <tr>\n",
              "      <th>mean</th>\n",
              "      <td>8747.00</td>\n",
              "      <td>0.77</td>\n",
              "      <td>60.59</td>\n",
              "      <td>3.21</td>\n",
              "    </tr>\n",
              "    <tr>\n",
              "      <th>std</th>\n",
              "      <td>5050.52</td>\n",
              "      <td>0.23</td>\n",
              "      <td>78.32</td>\n",
              "      <td>3.12</td>\n",
              "    </tr>\n",
              "    <tr>\n",
              "      <th>min</th>\n",
              "      <td>0.00</td>\n",
              "      <td>0.00</td>\n",
              "      <td>2.08</td>\n",
              "      <td>0.08</td>\n",
              "    </tr>\n",
              "    <tr>\n",
              "      <th>25%</th>\n",
              "      <td>4373.50</td>\n",
              "      <td>0.71</td>\n",
              "      <td>21.39</td>\n",
              "      <td>0.48</td>\n",
              "    </tr>\n",
              "    <tr>\n",
              "      <th>50%</th>\n",
              "      <td>8747.00</td>\n",
              "      <td>0.83</td>\n",
              "      <td>36.48</td>\n",
              "      <td>0.71</td>\n",
              "    </tr>\n",
              "    <tr>\n",
              "      <th>75%</th>\n",
              "      <td>13120.50</td>\n",
              "      <td>0.92</td>\n",
              "      <td>67.56</td>\n",
              "      <td>6.59</td>\n",
              "    </tr>\n",
              "    <tr>\n",
              "      <th>max</th>\n",
              "      <td>17494.00</td>\n",
              "      <td>1.00</td>\n",
              "      <td>1553.96</td>\n",
              "      <td>9.11</td>\n",
              "    </tr>\n",
              "  </tbody>\n",
              "</table>\n",
              "</div>"
            ],
            "text/plain": [
              "       Unnamed: 0  coverage  winkler     time\n",
              "count    17495.00  17495.00 17495.00 17495.00\n",
              "mean      8747.00      0.77    60.59     3.21\n",
              "std       5050.52      0.23    78.32     3.12\n",
              "min          0.00      0.00     2.08     0.08\n",
              "25%       4373.50      0.71    21.39     0.48\n",
              "50%       8747.00      0.83    36.48     0.71\n",
              "75%      13120.50      0.92    67.56     6.59\n",
              "max      17494.00      1.00  1553.96     9.11"
            ]
          },
          "metadata": {},
          "output_type": "display_data"
        },
        {
          "data": {
            "text/html": [
              "<div>\n",
              "<style scoped>\n",
              "    .dataframe tbody tr th:only-of-type {\n",
              "        vertical-align: middle;\n",
              "    }\n",
              "\n",
              "    .dataframe tbody tr th {\n",
              "        vertical-align: top;\n",
              "    }\n",
              "\n",
              "    .dataframe thead th {\n",
              "        text-align: right;\n",
              "    }\n",
              "</style>\n",
              "<table border=\"1\" class=\"dataframe\">\n",
              "  <thead>\n",
              "    <tr style=\"text-align: right;\">\n",
              "      <th></th>\n",
              "      <th>Unnamed: 0</th>\n",
              "      <th>coverage</th>\n",
              "      <th>winkler</th>\n",
              "      <th>time</th>\n",
              "    </tr>\n",
              "  </thead>\n",
              "  <tbody>\n",
              "    <tr>\n",
              "      <th>count</th>\n",
              "      <td>17813.00</td>\n",
              "      <td>17813.00</td>\n",
              "      <td>17813.00</td>\n",
              "      <td>17813.00</td>\n",
              "    </tr>\n",
              "    <tr>\n",
              "      <th>mean</th>\n",
              "      <td>8906.00</td>\n",
              "      <td>0.76</td>\n",
              "      <td>62.97</td>\n",
              "      <td>10.58</td>\n",
              "    </tr>\n",
              "    <tr>\n",
              "      <th>std</th>\n",
              "      <td>5142.31</td>\n",
              "      <td>0.25</td>\n",
              "      <td>97.90</td>\n",
              "      <td>13.83</td>\n",
              "    </tr>\n",
              "    <tr>\n",
              "      <th>min</th>\n",
              "      <td>0.00</td>\n",
              "      <td>0.00</td>\n",
              "      <td>2.08</td>\n",
              "      <td>0.13</td>\n",
              "    </tr>\n",
              "    <tr>\n",
              "      <th>25%</th>\n",
              "      <td>4453.00</td>\n",
              "      <td>0.70</td>\n",
              "      <td>21.61</td>\n",
              "      <td>1.02</td>\n",
              "    </tr>\n",
              "    <tr>\n",
              "      <th>50%</th>\n",
              "      <td>8906.00</td>\n",
              "      <td>0.83</td>\n",
              "      <td>37.19</td>\n",
              "      <td>5.50</td>\n",
              "    </tr>\n",
              "    <tr>\n",
              "      <th>75%</th>\n",
              "      <td>13359.00</td>\n",
              "      <td>0.92</td>\n",
              "      <td>70.42</td>\n",
              "      <td>14.75</td>\n",
              "    </tr>\n",
              "    <tr>\n",
              "      <th>max</th>\n",
              "      <td>17812.00</td>\n",
              "      <td>1.00</td>\n",
              "      <td>7270.32</td>\n",
              "      <td>169.19</td>\n",
              "    </tr>\n",
              "  </tbody>\n",
              "</table>\n",
              "</div>"
            ],
            "text/plain": [
              "       Unnamed: 0  coverage  winkler     time\n",
              "count    17813.00  17813.00 17813.00 17813.00\n",
              "mean      8906.00      0.76    62.97    10.58\n",
              "std       5142.31      0.25    97.90    13.83\n",
              "min          0.00      0.00     2.08     0.13\n",
              "25%       4453.00      0.70    21.61     1.02\n",
              "50%       8906.00      0.83    37.19     5.50\n",
              "75%      13359.00      0.92    70.42    14.75\n",
              "max      17812.00      1.00  7270.32   169.19"
            ]
          },
          "metadata": {},
          "output_type": "display_data"
        }
      ],
      "source": [
        "display(results_local.describe())"
      ]
    },
    {
      "cell_type": "markdown",
      "metadata": {},
      "source": [
        "## Tables and graphics "
      ]
    },
    {
      "cell_type": "code",
      "execution_count": 44,
      "metadata": {},
      "outputs": [],
      "source": [
        "df = pd.read_csv(\"2024_10_22_m5_sales_uncertainty_prediction_results_local.csv\")"
      ]
    },
    {
      "cell_type": "code",
      "execution_count": 46,
      "metadata": {},
      "outputs": [],
      "source": [
        "df['log_error_rate'] = np.log(1 - df['coverage'])\n",
        "df['log_winkler'] = np.log(df['winkler'])\n",
        "df['log_time'] = np.log(df['time'])"
      ]
    },
    {
      "cell_type": "code",
      "execution_count": 47,
      "metadata": {},
      "outputs": [
        {
          "data": {
            "text/html": [
              "<div>\n",
              "<style scoped>\n",
              "    .dataframe tbody tr th:only-of-type {\n",
              "        vertical-align: middle;\n",
              "    }\n",
              "\n",
              "    .dataframe tbody tr th {\n",
              "        vertical-align: top;\n",
              "    }\n",
              "\n",
              "    .dataframe thead tr th {\n",
              "        text-align: left;\n",
              "    }\n",
              "</style>\n",
              "<table border=\"1\" class=\"dataframe\">\n",
              "  <thead>\n",
              "    <tr>\n",
              "      <th></th>\n",
              "      <th>model</th>\n",
              "      <th colspan=\"2\" halign=\"left\">gb</th>\n",
              "      <th colspan=\"2\" halign=\"left\">lgb</th>\n",
              "      <th colspan=\"2\" halign=\"left\">xgb</th>\n",
              "    </tr>\n",
              "    <tr>\n",
              "      <th></th>\n",
              "      <th>pi_method</th>\n",
              "      <th>conformal</th>\n",
              "      <th>quantile</th>\n",
              "      <th>conformal</th>\n",
              "      <th>quantile</th>\n",
              "      <th>conformal</th>\n",
              "      <th>quantile</th>\n",
              "    </tr>\n",
              "  </thead>\n",
              "  <tbody>\n",
              "    <tr>\n",
              "      <th rowspan=\"3\" valign=\"top\">coverage</th>\n",
              "      <th>min</th>\n",
              "      <td>0.00</td>\n",
              "      <td>0.03</td>\n",
              "      <td>0.00</td>\n",
              "      <td>0.05</td>\n",
              "      <td>0.00</td>\n",
              "      <td>0.29</td>\n",
              "    </tr>\n",
              "    <tr>\n",
              "      <th>median</th>\n",
              "      <td>0.89</td>\n",
              "      <td>0.81</td>\n",
              "      <td>0.89</td>\n",
              "      <td>0.75</td>\n",
              "      <td>0.90</td>\n",
              "      <td>0.79</td>\n",
              "    </tr>\n",
              "    <tr>\n",
              "      <th>max</th>\n",
              "      <td>1.00</td>\n",
              "      <td>1.00</td>\n",
              "      <td>1.00</td>\n",
              "      <td>1.00</td>\n",
              "      <td>1.00</td>\n",
              "      <td>1.00</td>\n",
              "    </tr>\n",
              "    <tr>\n",
              "      <th rowspan=\"3\" valign=\"top\">winkler</th>\n",
              "      <th>min</th>\n",
              "      <td>2.08</td>\n",
              "      <td>2.08</td>\n",
              "      <td>5.77</td>\n",
              "      <td>5.00</td>\n",
              "      <td>5.54</td>\n",
              "      <td>4.78</td>\n",
              "    </tr>\n",
              "    <tr>\n",
              "      <th>median</th>\n",
              "      <td>35.53</td>\n",
              "      <td>34.44</td>\n",
              "      <td>36.00</td>\n",
              "      <td>42.34</td>\n",
              "      <td>35.43</td>\n",
              "      <td>38.08</td>\n",
              "    </tr>\n",
              "    <tr>\n",
              "      <th>max</th>\n",
              "      <td>1298.16</td>\n",
              "      <td>7270.32</td>\n",
              "      <td>1272.90</td>\n",
              "      <td>1304.69</td>\n",
              "      <td>1781.88</td>\n",
              "      <td>1553.96</td>\n",
              "    </tr>\n",
              "    <tr>\n",
              "      <th rowspan=\"3\" valign=\"top\">time</th>\n",
              "      <th>min</th>\n",
              "      <td>2.22</td>\n",
              "      <td>0.69</td>\n",
              "      <td>2.41</td>\n",
              "      <td>0.62</td>\n",
              "      <td>2.15</td>\n",
              "      <td>0.13</td>\n",
              "    </tr>\n",
              "    <tr>\n",
              "      <th>median</th>\n",
              "      <td>12.75</td>\n",
              "      <td>1.09</td>\n",
              "      <td>16.14</td>\n",
              "      <td>3.63</td>\n",
              "      <td>12.75</td>\n",
              "      <td>0.23</td>\n",
              "    </tr>\n",
              "    <tr>\n",
              "      <th>max</th>\n",
              "      <td>92.19</td>\n",
              "      <td>11.61</td>\n",
              "      <td>169.19</td>\n",
              "      <td>78.22</td>\n",
              "      <td>88.54</td>\n",
              "      <td>2.78</td>\n",
              "    </tr>\n",
              "  </tbody>\n",
              "</table>\n",
              "</div>"
            ],
            "text/plain": [
              "model                  gb                lgb                xgb         \n",
              "pi_method       conformal quantile conformal quantile conformal quantile\n",
              "coverage min         0.00     0.03      0.00     0.05      0.00     0.29\n",
              "         median      0.89     0.81      0.89     0.75      0.90     0.79\n",
              "         max         1.00     1.00      1.00     1.00      1.00     1.00\n",
              "winkler  min         2.08     2.08      5.77     5.00      5.54     4.78\n",
              "         median     35.53    34.44     36.00    42.34     35.43    38.08\n",
              "         max      1298.16  7270.32   1272.90  1304.69   1781.88  1553.96\n",
              "time     min         2.22     0.69      2.41     0.62      2.15     0.13\n",
              "         median     12.75     1.09     16.14     3.63     12.75     0.23\n",
              "         max        92.19    11.61    169.19    78.22     88.54     2.78"
            ]
          },
          "execution_count": 47,
          "metadata": {},
          "output_type": "execute_result"
        }
      ],
      "source": [
        "df_grouped = df.groupby(['model', 'pi_method'])[['coverage', 'winkler', 'time']].agg(['min', 'median', 'max'])\n",
        "\n",
        "df_grouped.transpose()"
      ]
    },
    {
      "cell_type": "code",
      "execution_count": 48,
      "metadata": {},
      "outputs": [
        {
          "name": "stdout",
          "output_type": "stream",
          "text": [
            "\\begin{tabular}{llllllll}\n",
            "\\toprule\n",
            " & model & \\multicolumn{2}{r}{gb} & \\multicolumn{2}{r}{lgb} & \\multicolumn{2}{r}{xgb} \\\\\n",
            " & pi_method & conformal & quantile & conformal & quantile & conformal & quantile \\\\\n",
            "\\midrule\n",
            "\\multirow[t]{3}{*}{coverage} & min & 0.00 & 0.03 & 0.00 & 0.05 & 0.00 & 0.29 \\\\\n",
            " & median & 0.89 & 0.81 & 0.89 & 0.75 & 0.90 & 0.79 \\\\\n",
            " & max & 1.00 & 1.00 & 1.00 & 1.00 & 1.00 & 1.00 \\\\\n",
            "\\cline{1-8}\n",
            "\\multirow[t]{3}{*}{winkler} & min & 2.08 & 2.08 & 5.77 & 5.00 & 5.54 & 4.78 \\\\\n",
            " & median & 35.53 & 34.44 & 36.00 & 42.34 & 35.43 & 38.08 \\\\\n",
            " & max & 1298.16 & 7270.32 & 1272.90 & 1304.69 & 1781.88 & 1553.96 \\\\\n",
            "\\cline{1-8}\n",
            "\\multirow[t]{3}{*}{time} & min & 2.22 & 0.69 & 2.41 & 0.62 & 2.15 & 0.13 \\\\\n",
            " & median & 12.75 & 1.09 & 16.14 & 3.63 & 12.75 & 0.23 \\\\\n",
            " & max & 92.19 & 11.61 & 169.19 & 78.22 & 88.54 & 2.78 \\\\\n",
            "\\cline{1-8}\n",
            "\\bottomrule\n",
            "\\end{tabular}\n",
            "\n"
          ]
        }
      ],
      "source": [
        "latex_table = df_grouped.transpose().applymap(lambda x: f\"{x:.2f}\" if isinstance(x, float) else x).to_latex()\n",
        "print(latex_table)"
      ]
    },
    {
      "cell_type": "code",
      "execution_count": 49,
      "metadata": {},
      "outputs": [
        {
          "data": {
            "image/png": "[encoded data removed]",
            "text/plain": [
              "<Figure size 800x400 with 1 Axes>"
            ]
          },
          "metadata": {},
          "output_type": "display_data"
        }
      ],
      "source": [
        "import matplotlib.pyplot as plt\n",
        "import seaborn as sns\n",
        "\n",
        "# Coverage plot\n",
        "plt.figure(figsize=(8, 4))\n",
        "sns.boxplot(x='model', y='log_error_rate', hue='pi_method', data=df)\n",
        "plt.title('Log error rate per Model and PI Method')\n",
        "plt.xlabel('Model')\n",
        "plt.ylabel('Log error rate')\n",
        "plt.xticks(rotation=45, ha='right')\n",
        "plt.legend(title='PI Method')\n",
        "plt.tight_layout()\n",
        "plt.show()"
      ]
    },
    {
      "cell_type": "code",
      "execution_count": 50,
      "metadata": {},
      "outputs": [
        {
          "data": {
            "image/png": "[encoded data removed]",
            "text/plain": [
              "<Figure size 800x400 with 1 Axes>"
            ]
          },
          "metadata": {},
          "output_type": "display_data"
        }
      ],
      "source": [
        "# Winkler plot\n",
        "plt.figure(figsize=(8, 4))\n",
        "sns.boxplot(x='model', y='log_winkler', hue='pi_method', data=df)\n",
        "plt.title('Log Winkler Score per Model and PI Method')\n",
        "plt.xlabel('Model')\n",
        "plt.ylabel('Log Winkler Score')\n",
        "plt.xticks(rotation=45, ha='right')\n",
        "plt.legend(title='PI Method')\n",
        "plt.tight_layout()\n",
        "plt.show()"
      ]
    },
    {
      "cell_type": "code",
      "execution_count": 51,
      "metadata": {},
      "outputs": [
        {
          "data": {
            "image/png": "[encoded data removed]",
            "text/plain": [
              "<Figure size 800x400 with 1 Axes>"
            ]
          },
          "metadata": {},
          "output_type": "display_data"
        }
      ],
      "source": [
        "# Time plot\n",
        "plt.figure(figsize=(8, 4))\n",
        "sns.boxplot(x='model', y='log_time', hue='pi_method', data=df)\n",
        "plt.title('Time per Model and PI Method')\n",
        "plt.xlabel('Model')\n",
        "plt.ylabel('Log Time in Log(seconds)')\n",
        "plt.xticks(rotation=45, ha='right')\n",
        "plt.legend(title='PI Method')\n",
        "plt.tight_layout()\n",
        "plt.show()"
      ]
    },
    {
      "cell_type": "markdown",
      "metadata": {},
      "source": [
        "# Session info"
      ]
    },
    {
      "cell_type": "code",
      "execution_count": 52,
      "metadata": {},
      "outputs": [
        {
          "name": "stdout",
          "output_type": "stream",
          "text": [
            "annotated-types==0.7.0\n",
            "appdirs==1.4.4\n",
            "appnope==0.1.4\n",
            "arrow==1.3.0\n",
            "astor==0.8.1\n",
            "asttokens==2.4.1\n",
            "attrs==24.2.0\n",
            "backoff==2.2.1\n",
            "cachetools==5.5.0\n",
            "certifi==2024.8.30\n",
            "charset-normalizer==3.4.0\n",
            "comm==0.2.2\n",
            "contourpy==1.3.0\n",
            "cycler==0.12.1\n",
            "dacite==1.8.1\n",
            "dateutils==0.6.12\n",
            "debugpy==1.8.7\n",
            "decorator==5.1.1\n",
            "duckdb==1.1.2\n",
            "executing==2.1.0\n",
            "fonttools==4.54.1\n",
            "greenlet==3.1.1\n",
            "gw_dsl_parser==0.1.49.1\n",
            "htmlmin==0.1.12\n",
            "idna==3.10\n",
            "ImageHash==4.3.1\n",
            "importlib_resources==6.4.5\n",
            "ipykernel==6.29.5\n",
            "ipylab==1.0.0\n",
            "ipython==8.28.0\n",
            "ipywidgets==8.1.5\n",
            "jedi==0.19.1\n",
            "Jinja2==3.1.4\n",
            "joblib==1.4.2\n",
            "jupyter_client==8.6.3\n",
            "jupyter_core==5.7.2\n",
            "jupyterlab_widgets==3.0.13\n",
            "kanaries_track==0.0.5\n",
            "kiwisolver==1.4.7\n",
            "lightgbm==4.5.0\n",
            "llvmlite==0.43.0\n",
            "MarkupSafe==3.0.2\n",
            "matplotlib==3.9.2\n",
            "matplotlib-inline==0.1.7\n",
            "monotonic==1.6\n",
            "multimethod==1.12\n",
            "nest-asyncio==1.6.0\n",
            "networkx==3.4.2\n",
            "nnetsauce==0.25.10\n",
            "numba==0.60.0\n",
            "numpy==1.26.4\n",
            "packaging==24.1\n",
            "pandas==2.2.3\n",
            "parso==0.8.4\n",
            "patsy==0.5.6\n",
            "pexpect==4.9.0\n",
            "phik==0.12.4\n",
            "pillow==11.0.0\n",
            "platformdirs==4.3.6\n",
            "prompt_toolkit==3.0.48\n",
            "psutil==6.1.0\n",
            "ptyprocess==0.7.0\n",
            "pure_eval==0.2.3\n",
            "pyarrow==17.0.0\n",
            "pydantic==2.9.2\n",
            "pydantic_core==2.23.4\n",
            "Pygments==2.18.0\n",
            "pygwalker==0.4.9.10\n",
            "pyparsing==3.2.0\n",
            "python-dateutil==2.9.0.post0\n",
            "pytz==2024.2\n",
            "PyWavelets==1.7.0\n",
            "PyYAML==6.0.2\n",
            "pyzmq==26.2.0\n",
            "quickjs==1.19.4\n",
            "requests==2.32.3\n",
            "scikit-learn==1.5.2\n",
            "scipy==1.13.1\n",
            "seaborn==0.13.2\n",
            "segment-analytics-python==2.2.3\n",
            "six==1.16.0\n",
            "skrub==0.3.1\n",
            "SQLAlchemy==2.0.36\n",
            "sqlglot==25.27.0\n",
            "stack-data==0.6.3\n",
            "statsmodels==0.14.4\n",
            "threadpoolctl==3.5.0\n",
            "tornado==6.4.1\n",
            "tqdm==4.66.5\n",
            "traitlets==5.14.3\n",
            "typeguard==4.3.0\n",
            "types-python-dateutil==2.9.0.20241003\n",
            "typing_extensions==4.12.2\n",
            "tzdata==2024.2\n",
            "urllib3==2.2.3\n",
            "visions==0.7.6\n",
            "wasmtime==25.0.0\n",
            "wcwidth==0.2.13\n",
            "widgetsnbextension==4.0.13\n",
            "wordcloud==1.9.3\n",
            "xgboost==2.1.2\n",
            "ydata-profiling==4.11.0\n"
          ]
        }
      ],
      "source": [
        "!pip freeze"
      ]
    },
    {
      "cell_type": "code",
      "execution_count": 56,
      "metadata": {},
      "outputs": [
        {
          "name": "stdout",
          "output_type": "stream",
          "text": [
            "Python Version: 3.11.10\n"
          ]
        }
      ],
      "source": [
        "import platform\n",
        "\n",
        "# Get basic machine information\n",
        "python_version = platform.python_version()\n",
        "\n",
        "print(\"Python Version:\", python_version)\n"
      ]
    },
    {
      "cell_type": "code",
      "execution_count": 55,
      "metadata": {},
      "outputs": [
        {
          "name": "stdout",
          "output_type": "stream",
          "text": [
            "CPU Count: 8\n",
            "CPU Frequency: 1100 MHz\n"
          ]
        }
      ],
      "source": [
        "import psutil\n",
        "\n",
        "# CPU Information\n",
        "cpu_count = psutil.cpu_count(logical=True)\n",
        "cpu_freq = psutil.cpu_freq()\n",
        "cpu_usage = psutil.cpu_percent(interval=1)\n",
        "\n",
        "# Memory Information\n",
        "virtual_memory = psutil.virtual_memory()\n",
        "swap_memory = psutil.swap_memory()\n",
        "\n",
        "# Disk Information\n",
        "disk_usage = psutil.disk_usage('/')\n",
        "\n",
        "print(f\"CPU Count: {cpu_count}\")\n",
        "print(f\"CPU Frequency: {cpu_freq.current} MHz\")"
      ]
    }
  ],
  "metadata": {
    "colab": {
      "provenance": []
    },
    "kaggle": {
      "accelerator": "gpu",
      "dataSources": [
        {
          "databundleVersionId": 1236843,
          "sourceId": 18600,
          "sourceType": "competition"
        }
      ],
      "dockerImageVersionId": 29869,
      "isGpuEnabled": true,
      "isInternetEnabled": true,
      "language": "python",
      "sourceType": "notebook"
    },
    "kernelspec": {
      "display_name": "venv",
      "language": "python",
      "name": "python3"
    },
    "language_info": {
      "codemirror_mode": {
        "name": "ipython",
        "version": 3
      },
      "file_extension": ".py",
      "mimetype": "text/x-python",
      "name": "python",
      "nbconvert_exporter": "python",
      "pygments_lexer": "ipython3",
      "version": "3.11.10"
    }
  },
  "nbformat": 4,
  "nbformat_minor": 0
}
